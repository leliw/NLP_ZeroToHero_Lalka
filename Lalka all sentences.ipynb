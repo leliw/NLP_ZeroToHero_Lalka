{
 "cells": [
  {
   "cell_type": "code",
   "execution_count": 1,
   "metadata": {},
   "outputs": [],
   "source": [
    "import spacy\n",
    "\n",
    "nlp = spacy.load(\"pl_core_news_sm\")"
   ]
  },
  {
   "cell_type": "code",
   "execution_count": 2,
   "metadata": {},
   "outputs": [],
   "source": [
    "import json\n",
    "\n",
    "def load_json_data(file: str):\n",
    "    with open(file, 'tr', encoding=\"UTF-8\") as json_file:\n",
    "        data = json.load(json_file)\n",
    "    return data\n",
    "\n",
    "def save_json_data(file: str, json_data):\n",
    "    with open(file, 'tw', encoding=\"UTF-8\") as outfile:\n",
    "        json.dump(json_data, outfile, indent=4, ensure_ascii=False)"
   ]
  },
  {
   "cell_type": "code",
   "execution_count": 4,
   "metadata": {},
   "outputs": [],
   "source": [
    "from pathlib import Path\n",
    " \n",
    "directory = 'data'\n",
    "sents = []\n",
    "files = Path(directory).glob('*.json')\n",
    "for file in files:\n",
    "    data = load_json_data(file)\n",
    "    text = data.get(\"text\")\n",
    "    text = text.replace(\"\\n\", \" \")\n",
    "    text = ' '.join(text.split())\n",
    "    doc = nlp(text)\n",
    "    for s in doc.sents:\n",
    "        text = s.text\n",
    "        if text.startswith(\"- \"):\n",
    "            text = text[2:]\n",
    "        if len(text) > 20:\n",
    "            sents.append(text)\n",
    "save_json_data(\"all.json\", sents)"
   ]
  }
 ],
 "metadata": {
  "kernelspec": {
   "display_name": "Python 3",
   "language": "python",
   "name": "python3"
  },
  "language_info": {
   "codemirror_mode": {
    "name": "ipython",
    "version": 3
   },
   "file_extension": ".py",
   "mimetype": "text/x-python",
   "name": "python",
   "nbconvert_exporter": "python",
   "pygments_lexer": "ipython3",
   "version": "3.11.5"
  },
  "orig_nbformat": 4
 },
 "nbformat": 4,
 "nbformat_minor": 2
}
