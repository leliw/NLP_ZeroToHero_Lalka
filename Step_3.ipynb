{
 "cells": [
  {
   "cell_type": "code",
   "execution_count": 37,
   "metadata": {},
   "outputs": [
    {
     "name": "stderr",
     "output_type": "stream",
     "text": [
      "'wget' is not recognized as an internal or external command,\n",
      "operable program or batch file.\n"
     ]
    }
   ],
   "source": [
    "!wget --no-check-certificate \\\n",
    "    https://storage.googleapis.com/learning-datasets/sarcasm.json \\\n",
    "    -O sarcasm.json"
   ]
  },
  {
   "cell_type": "markdown",
   "metadata": {},
   "source": [
    "\n",
    "# Instalacja pakietów\n",
    "\n",
    "```bash\n",
    "pip install --upgrade pip\n",
    "pip install \"tensorflow\"\n",
    "```\n",
    "\n",
    "Źródło: https://goo.gle/nlp-z2h\n"
   ]
  },
  {
   "cell_type": "markdown",
   "metadata": {},
   "source": [
    "\n",
    "Źródło: https://goo.gle/nlp-z2h"
   ]
  },
  {
   "cell_type": "code",
   "execution_count": 38,
   "metadata": {},
   "outputs": [],
   "source": [
    "import json"
   ]
  },
  {
   "cell_type": "code",
   "execution_count": 39,
   "metadata": {},
   "outputs": [],
   "source": [
    "with open(\"sarcasm.json\", \"r\") as f:\n",
    "    datastore = json.load(f)\n",
    "    "
   ]
  },
  {
   "cell_type": "code",
   "execution_count": 40,
   "metadata": {},
   "outputs": [],
   "source": [
    "sentences = []\n",
    "labels = []\n",
    "urls = []\n",
    "for item in datastore:\n",
    "    sentences.append(item['headline'])\n",
    "    labels.append(item['is_sarcastic'])\n",
    "    urls.append(item['article_link'])"
   ]
  },
  {
   "cell_type": "code",
   "execution_count": 41,
   "metadata": {},
   "outputs": [],
   "source": [
    "import tensorflow as tf\n",
    "from tensorflow.keras.preprocessing.text import Tokenizer\n",
    "from tensorflow.keras.preprocessing.sequence import pad_sequences"
   ]
  },
  {
   "cell_type": "code",
   "execution_count": 42,
   "metadata": {},
   "outputs": [
    {
     "name": "stdout",
     "output_type": "stream",
     "text": [
      "[  308 15115   679  3337  2298    48   382  2576 15116     6  2577  8434\n",
      "     0     0     0     0     0     0     0     0     0     0     0     0\n",
      "     0     0     0     0     0     0     0     0     0     0     0     0\n",
      "     0     0     0     0]\n",
      "(26709, 40)\n",
      "\n"
     ]
    }
   ],
   "source": [
    "tokenizer = Tokenizer(oov_token=\"<OOV>\")\n",
    "tokenizer.fit_on_texts(sentences)\n",
    "word_index = tokenizer.word_index\n",
    "seqences = tokenizer.texts_to_sequences(sentences)\n",
    "padded = pad_sequences(seqences, padding=\"post\")\n",
    "print(padded[0])\n",
    "print(padded.shape)\n",
    "print()"
   ]
  },
  {
   "cell_type": "code",
   "execution_count": 43,
   "metadata": {},
   "outputs": [],
   "source": [
    "vocab_size = 10000\n",
    "embedding_dim = 16\n",
    "max_length = 100\n",
    "trunc_type='post'\n",
    "padding_type='post'\n",
    "oov_tok = \"<OOV>\"\n",
    "training_size = 20000"
   ]
  },
  {
   "cell_type": "code",
   "execution_count": 44,
   "metadata": {},
   "outputs": [],
   "source": [
    "training_size = int(padded.shape[0] * 0.8)\n",
    "\n",
    "training_sentences = sentences[0:training_size]\n",
    "testing_sentences = sentences[training_size:]\n",
    "training_labels = labels[0:training_size]\n",
    "testing_labels = labels[training_size:]\n",
    "\n",
    "tokenizer = Tokenizer(num_words=vocab_size, oov_token=\"<OOV>\")\n",
    "tokenizer.fit_on_texts(training_sentences)\n",
    "word_index = tokenizer.word_index\n",
    "\n",
    "training_sequences = tokenizer.texts_to_sequences(training_sentences)\n",
    "training_padded = pad_sequences(training_sequences, maxlen=max_length, padding=padding_type, truncating=trunc_type)\n",
    "testing_sequences = tokenizer.texts_to_sequences(testing_sentences)\n",
    "testing_padded = pad_sequences(testing_sequences, maxlen=max_length, padding=padding_type, truncating=trunc_type)"
   ]
  },
  {
   "cell_type": "code",
   "execution_count": 45,
   "metadata": {},
   "outputs": [],
   "source": [
    "import numpy as np\n",
    "training_padded = np.array(training_padded)\n",
    "training_labels = np.array(training_labels)\n",
    "testing_padded = np.array(testing_padded)\n",
    "testing_labels = np.array(testing_labels)"
   ]
  },
  {
   "cell_type": "code",
   "execution_count": 46,
   "metadata": {},
   "outputs": [
    {
     "name": "stdout",
     "output_type": "stream",
     "text": [
      "Model: \"sequential_4\"\n",
      "_________________________________________________________________\n",
      " Layer (type)                Output Shape              Param #   \n",
      "=================================================================\n",
      " embedding_5 (Embedding)     (None, 100, 16)           160000    \n",
      "                                                                 \n",
      " global_average_pooling1d_5   (None, 16)               0         \n",
      " (GlobalAveragePooling1D)                                        \n",
      "                                                                 \n",
      " dense_10 (Dense)            (None, 24)                408       \n",
      "                                                                 \n",
      " dense_11 (Dense)            (None, 1)                 25        \n",
      "                                                                 \n",
      "=================================================================\n",
      "Total params: 160,433\n",
      "Trainable params: 160,433\n",
      "Non-trainable params: 0\n",
      "_________________________________________________________________\n"
     ]
    }
   ],
   "source": [
    "model = tf.keras.Sequential([\n",
    "    tf.keras.layers.Embedding(vocab_size, embedding_dim, input_length=max_length),\n",
    "    tf.keras.layers.GlobalAveragePooling1D(),\n",
    "    tf.keras.layers.Dense(24, activation='relu'),\n",
    "    tf.keras.layers.Dense(1, activation='sigmoid')\n",
    "])\n",
    "model.compile(loss='binary_crossentropy', optimizer='adam', metrics=['accuracy'])\n",
    "model.summary()"
   ]
  },
  {
   "cell_type": "code",
   "execution_count": 47,
   "metadata": {},
   "outputs": [
    {
     "name": "stdout",
     "output_type": "stream",
     "text": [
      "Epoch 1/30\n",
      "668/668 - 5s - loss: 0.6695 - accuracy: 0.5855 - val_loss: 0.5986 - val_accuracy: 0.7398 - 5s/epoch - 8ms/step\n",
      "Epoch 2/30\n",
      "668/668 - 3s - loss: 0.4524 - accuracy: 0.8268 - val_loss: 0.4110 - val_accuracy: 0.8044 - 3s/epoch - 4ms/step\n",
      "Epoch 3/30\n",
      "668/668 - 3s - loss: 0.3262 - accuracy: 0.8704 - val_loss: 0.3547 - val_accuracy: 0.8525 - 3s/epoch - 5ms/step\n",
      "Epoch 4/30\n",
      "668/668 - 3s - loss: 0.2742 - accuracy: 0.8919 - val_loss: 0.3415 - val_accuracy: 0.8562 - 3s/epoch - 5ms/step\n",
      "Epoch 5/30\n",
      "668/668 - 3s - loss: 0.2386 - accuracy: 0.9081 - val_loss: 0.3386 - val_accuracy: 0.8547 - 3s/epoch - 4ms/step\n",
      "Epoch 6/30\n",
      "668/668 - 3s - loss: 0.2125 - accuracy: 0.9188 - val_loss: 0.3461 - val_accuracy: 0.8540 - 3s/epoch - 4ms/step\n",
      "Epoch 7/30\n",
      "668/668 - 3s - loss: 0.1923 - accuracy: 0.9277 - val_loss: 0.3496 - val_accuracy: 0.8534 - 3s/epoch - 4ms/step\n",
      "Epoch 8/30\n",
      "668/668 - 3s - loss: 0.1723 - accuracy: 0.9362 - val_loss: 0.3690 - val_accuracy: 0.8487 - 3s/epoch - 4ms/step\n",
      "Epoch 9/30\n",
      "668/668 - 3s - loss: 0.1579 - accuracy: 0.9428 - val_loss: 0.3868 - val_accuracy: 0.8493 - 3s/epoch - 4ms/step\n",
      "Epoch 10/30\n",
      "668/668 - 3s - loss: 0.1443 - accuracy: 0.9491 - val_loss: 0.3899 - val_accuracy: 0.8508 - 3s/epoch - 4ms/step\n",
      "Epoch 11/30\n",
      "668/668 - 3s - loss: 0.1343 - accuracy: 0.9515 - val_loss: 0.4051 - val_accuracy: 0.8502 - 3s/epoch - 4ms/step\n",
      "Epoch 12/30\n",
      "668/668 - 3s - loss: 0.1240 - accuracy: 0.9557 - val_loss: 0.4238 - val_accuracy: 0.8486 - 3s/epoch - 4ms/step\n",
      "Epoch 13/30\n",
      "668/668 - 3s - loss: 0.1142 - accuracy: 0.9607 - val_loss: 0.4429 - val_accuracy: 0.8467 - 3s/epoch - 4ms/step\n",
      "Epoch 14/30\n",
      "668/668 - 3s - loss: 0.1054 - accuracy: 0.9640 - val_loss: 0.4807 - val_accuracy: 0.8310 - 3s/epoch - 4ms/step\n",
      "Epoch 15/30\n",
      "668/668 - 3s - loss: 0.0985 - accuracy: 0.9670 - val_loss: 0.4948 - val_accuracy: 0.8405 - 3s/epoch - 5ms/step\n",
      "Epoch 16/30\n",
      "668/668 - 3s - loss: 0.0920 - accuracy: 0.9691 - val_loss: 0.5094 - val_accuracy: 0.8396 - 3s/epoch - 4ms/step\n",
      "Epoch 17/30\n",
      "668/668 - 3s - loss: 0.0857 - accuracy: 0.9710 - val_loss: 0.5321 - val_accuracy: 0.8381 - 3s/epoch - 4ms/step\n",
      "Epoch 18/30\n",
      "668/668 - 3s - loss: 0.0809 - accuracy: 0.9735 - val_loss: 0.5565 - val_accuracy: 0.8377 - 3s/epoch - 4ms/step\n",
      "Epoch 19/30\n",
      "668/668 - 3s - loss: 0.0738 - accuracy: 0.9762 - val_loss: 0.5822 - val_accuracy: 0.8330 - 3s/epoch - 5ms/step\n",
      "Epoch 20/30\n",
      "668/668 - 3s - loss: 0.0691 - accuracy: 0.9777 - val_loss: 0.6180 - val_accuracy: 0.8328 - 3s/epoch - 4ms/step\n",
      "Epoch 21/30\n",
      "668/668 - 3s - loss: 0.0647 - accuracy: 0.9796 - val_loss: 0.6675 - val_accuracy: 0.8197 - 3s/epoch - 4ms/step\n",
      "Epoch 22/30\n",
      "668/668 - 3s - loss: 0.0613 - accuracy: 0.9810 - val_loss: 0.6703 - val_accuracy: 0.8289 - 3s/epoch - 4ms/step\n",
      "Epoch 23/30\n",
      "668/668 - 3s - loss: 0.0581 - accuracy: 0.9819 - val_loss: 0.6966 - val_accuracy: 0.8287 - 3s/epoch - 4ms/step\n",
      "Epoch 24/30\n",
      "668/668 - 3s - loss: 0.0530 - accuracy: 0.9841 - val_loss: 0.7238 - val_accuracy: 0.8272 - 3s/epoch - 4ms/step\n",
      "Epoch 25/30\n",
      "668/668 - 3s - loss: 0.0507 - accuracy: 0.9850 - val_loss: 0.7475 - val_accuracy: 0.8238 - 3s/epoch - 5ms/step\n",
      "Epoch 26/30\n",
      "668/668 - 3s - loss: 0.0464 - accuracy: 0.9858 - val_loss: 0.7849 - val_accuracy: 0.8238 - 3s/epoch - 4ms/step\n",
      "Epoch 27/30\n",
      "668/668 - 3s - loss: 0.0432 - accuracy: 0.9872 - val_loss: 0.8146 - val_accuracy: 0.8210 - 3s/epoch - 4ms/step\n",
      "Epoch 28/30\n",
      "668/668 - 3s - loss: 0.0427 - accuracy: 0.9871 - val_loss: 0.8474 - val_accuracy: 0.8175 - 3s/epoch - 4ms/step\n",
      "Epoch 29/30\n",
      "668/668 - 3s - loss: 0.0400 - accuracy: 0.9880 - val_loss: 0.8722 - val_accuracy: 0.8171 - 3s/epoch - 4ms/step\n",
      "Epoch 30/30\n",
      "668/668 - 3s - loss: 0.0370 - accuracy: 0.9897 - val_loss: 0.9049 - val_accuracy: 0.8167 - 3s/epoch - 5ms/step\n"
     ]
    }
   ],
   "source": [
    "num_epochs = 30\n",
    "history = model.fit(training_padded, training_labels, epochs=num_epochs, validation_data=(testing_padded, testing_labels), verbose=2)"
   ]
  },
  {
   "cell_type": "code",
   "execution_count": 48,
   "metadata": {},
   "outputs": [
    {
     "name": "stdout",
     "output_type": "stream",
     "text": [
      "1/1 [==============================] - 0s 163ms/step\n",
      "[[9.6163088e-01]\n",
      " [1.8236817e-04]]\n"
     ]
    }
   ],
   "source": [
    "sentence = [\n",
    "    'granny starting to fear spiders in the garden might be real',\n",
    "    'the weather today is bright and sunny'\n",
    "]\n",
    "seqences = tokenizer.texts_to_sequences(sentence)\n",
    "padded = pad_sequences(seqences, maxlen=max_length, padding=padding_type, truncating=trunc_type)\n",
    "print(model.predict(padded))"
   ]
  }
 ],
 "metadata": {
  "kernelspec": {
   "display_name": "Python 3",
   "language": "python",
   "name": "python3"
  },
  "language_info": {
   "codemirror_mode": {
    "name": "ipython",
    "version": 3
   },
   "file_extension": ".py",
   "mimetype": "text/x-python",
   "name": "python",
   "nbconvert_exporter": "python",
   "pygments_lexer": "ipython3",
   "version": "3.11.3"
  },
  "orig_nbformat": 4
 },
 "nbformat": 4,
 "nbformat_minor": 2
}
